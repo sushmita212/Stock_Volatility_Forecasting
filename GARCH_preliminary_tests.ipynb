{
 "cells": [
  {
   "cell_type": "code",
   "execution_count": 2,
   "id": "4fd16729",
   "metadata": {},
   "outputs": [],
   "source": [
    "%load_ext autoreload\n",
    "%autoreload 2"
   ]
  },
  {
   "cell_type": "code",
   "execution_count": 3,
   "id": "d539ca8b",
   "metadata": {},
   "outputs": [],
   "source": [
    "import warnings\n",
    "warnings.filterwarnings(\"ignore\")"
   ]
  },
  {
   "cell_type": "code",
   "execution_count": 4,
   "id": "f2d0d807",
   "metadata": {},
   "outputs": [],
   "source": [
    "import sqlite3\n",
    "import pandas as pd\n",
    "import numpy as np\n",
    "import matplotlib.pyplot as plt\n",
    "from data import stock_data\n",
    "from wfwGARCH import clusteringTest, GARCHWalkForward\n",
    "from hvPred import HVmodel"
   ]
  },
  {
   "cell_type": "code",
   "execution_count": 5,
   "id": "16688a19",
   "metadata": {},
   "outputs": [],
   "source": [
    "con = sqlite3.connect(\"stock_data.db\", check_same_thread=False)"
   ]
  },
  {
   "cell_type": "code",
   "execution_count": 16,
   "id": "305b4438",
   "metadata": {},
   "outputs": [],
   "source": [
    "df_stocks=pd.read_csv(\"results/clustering_scores.csv\")"
   ]
  },
  {
   "cell_type": "code",
   "execution_count": 17,
   "id": "b5b9c1d2",
   "metadata": {},
   "outputs": [
    {
     "data": {
      "text/html": [
       "<div>\n",
       "<style scoped>\n",
       "    .dataframe tbody tr th:only-of-type {\n",
       "        vertical-align: middle;\n",
       "    }\n",
       "\n",
       "    .dataframe tbody tr th {\n",
       "        vertical-align: top;\n",
       "    }\n",
       "\n",
       "    .dataframe thead th {\n",
       "        text-align: right;\n",
       "    }\n",
       "</style>\n",
       "<table border=\"1\" class=\"dataframe\">\n",
       "  <thead>\n",
       "    <tr style=\"text-align: right;\">\n",
       "      <th></th>\n",
       "      <th>Ticker</th>\n",
       "      <th>Sector</th>\n",
       "      <th>#Observations</th>\n",
       "      <th>Clustering Score</th>\n",
       "    </tr>\n",
       "  </thead>\n",
       "  <tbody>\n",
       "    <tr>\n",
       "      <th>0</th>\n",
       "      <td>DIA</td>\n",
       "      <td>ETF</td>\n",
       "      <td>6465</td>\n",
       "      <td>1.615</td>\n",
       "    </tr>\n",
       "    <tr>\n",
       "      <th>1</th>\n",
       "      <td>SPY</td>\n",
       "      <td>ETF</td>\n",
       "      <td>6458</td>\n",
       "      <td>1.528</td>\n",
       "    </tr>\n",
       "    <tr>\n",
       "      <th>2</th>\n",
       "      <td>TLT</td>\n",
       "      <td>ETF</td>\n",
       "      <td>5780</td>\n",
       "      <td>1.507</td>\n",
       "    </tr>\n",
       "    <tr>\n",
       "      <th>3</th>\n",
       "      <td>XLF</td>\n",
       "      <td>ETF</td>\n",
       "      <td>6465</td>\n",
       "      <td>1.290</td>\n",
       "    </tr>\n",
       "    <tr>\n",
       "      <th>4</th>\n",
       "      <td>ARKK</td>\n",
       "      <td>ETF</td>\n",
       "      <td>2691</td>\n",
       "      <td>1.269</td>\n",
       "    </tr>\n",
       "  </tbody>\n",
       "</table>\n",
       "</div>"
      ],
      "text/plain": [
       "  Ticker Sector  #Observations  Clustering Score\n",
       "0    DIA    ETF           6465             1.615\n",
       "1    SPY    ETF           6458             1.528\n",
       "2    TLT    ETF           5780             1.507\n",
       "3    XLF    ETF           6465             1.290\n",
       "4   ARKK    ETF           2691             1.269"
      ]
     },
     "execution_count": 17,
     "metadata": {},
     "output_type": "execute_result"
    }
   ],
   "source": [
    "df_stocks.head()"
   ]
  },
  {
   "cell_type": "code",
   "execution_count": 20,
   "id": "5e90ce73",
   "metadata": {},
   "outputs": [
    {
     "data": {
      "text/plain": [
       "['DIA', 'SPY', 'TLT']"
      ]
     },
     "execution_count": 20,
     "metadata": {},
     "output_type": "execute_result"
    }
   ],
   "source": [
    "high_clustering_stocks = list(df_stocks['Ticker'].head(3))\n",
    "high_clustering_stocks"
   ]
  },
  {
   "cell_type": "code",
   "execution_count": 21,
   "id": "3a72d137",
   "metadata": {},
   "outputs": [
    {
     "data": {
      "text/plain": [
       "['CRM', 'GOOGL', 'VXX']"
      ]
     },
     "execution_count": 21,
     "metadata": {},
     "output_type": "execute_result"
    }
   ],
   "source": [
    "low_clustering_stocks = list(df_stocks['Ticker'].tail(3))\n",
    "low_clustering_stocks"
   ]
  },
  {
   "cell_type": "code",
   "execution_count": 22,
   "id": "036d7a64",
   "metadata": {},
   "outputs": [],
   "source": [
    "def get_stock_data(stock_list):\n",
    "    df_dict = {}\n",
    "    for stock in stock_list:\n",
    "        st = stock_data(stock)\n",
    "        df = st.load_data(con)\n",
    "        df.index = pd.to_datetime(df.index, format='ISO8601')\n",
    "        df.sort_index(inplace=True)\n",
    "        df_dict[stock] = df\n",
    "        df_dict[stock]['returns'] = np.log(df['close'] / df['close'].shift(1))*100 \n",
    "        df_dict[stock].dropna(inplace=True)\n",
    "    return df_dict    \n"
   ]
  },
  {
   "cell_type": "code",
   "execution_count": null,
   "id": "22e7b001",
   "metadata": {},
   "outputs": [],
   "source": [
    "# class GARCH_model_tests:\n",
    "#     def __init__(self,data):\n",
    "#         self.data = data\n",
    "\n",
    "#     # This method returns the wfw predicted volatility, residuals and model fit parameters for a list of stocks\n",
    "#     def modelResults(self, data):\n",
    "\n",
    "#     # Plot resiudals to see that there is no pattern\n",
    "#     def plot_resids(self,resids):\n",
    "\n",
    "#     # JQ test for resids\n",
    "#     def jq_test(self. resids):\n",
    "\n",
    "#     # other tests for resids\n",
    "    \n",
    "        "
   ]
  },
  {
   "cell_type": "code",
   "execution_count": null,
   "id": "e9a7eed9",
   "metadata": {},
   "outputs": [],
   "source": [
    "# class GARCH_HV_comparison:\n",
    "#     def __init__(self,data):\n",
    "#         self.data = data\n",
    "#     # Plot returns, realized volatility and predicted HV and GARCH volatility\n",
    "\n",
    "#     # compare error metrics\n",
    "\n"
   ]
  },
  {
   "cell_type": "code",
   "execution_count": 19,
   "id": "998b6405",
   "metadata": {},
   "outputs": [],
   "source": [
    "st = stock_data(\"DIA\")\n",
    "df_DIA = st.load_data(con)\n",
    "df_DIA.index = pd.to_datetime(df_DIA.index, format='ISO8601')\n",
    "df_DIA.sort_index(inplace=True)\n",
    "df_DIA[\"returns\"] = np.log(df_DIA['close'] / df_DIA['close'].shift(1))*100\n",
    "df_DIA.dropna(inplace = True)"
   ]
  },
  {
   "cell_type": "code",
   "execution_count": 20,
   "id": "99174237",
   "metadata": {},
   "outputs": [
    {
     "data": {
      "text/html": [
       "<div>\n",
       "<style scoped>\n",
       "    .dataframe tbody tr th:only-of-type {\n",
       "        vertical-align: middle;\n",
       "    }\n",
       "\n",
       "    .dataframe tbody tr th {\n",
       "        vertical-align: top;\n",
       "    }\n",
       "\n",
       "    .dataframe thead th {\n",
       "        text-align: right;\n",
       "    }\n",
       "</style>\n",
       "<table border=\"1\" class=\"dataframe\">\n",
       "  <thead>\n",
       "    <tr style=\"text-align: right;\">\n",
       "      <th></th>\n",
       "      <th>open</th>\n",
       "      <th>high</th>\n",
       "      <th>low</th>\n",
       "      <th>close</th>\n",
       "      <th>volume</th>\n",
       "      <th>returns</th>\n",
       "    </tr>\n",
       "    <tr>\n",
       "      <th>date</th>\n",
       "      <th></th>\n",
       "      <th></th>\n",
       "      <th></th>\n",
       "      <th></th>\n",
       "      <th></th>\n",
       "      <th></th>\n",
       "    </tr>\n",
       "  </thead>\n",
       "  <tbody>\n",
       "    <tr>\n",
       "      <th>1999-11-02</th>\n",
       "      <td>107.00</td>\n",
       "      <td>107.70</td>\n",
       "      <td>105.700</td>\n",
       "      <td>105.70</td>\n",
       "      <td>975300.0</td>\n",
       "      <td>-0.754009</td>\n",
       "    </tr>\n",
       "    <tr>\n",
       "      <th>1999-11-03</th>\n",
       "      <td>106.80</td>\n",
       "      <td>106.80</td>\n",
       "      <td>105.800</td>\n",
       "      <td>106.20</td>\n",
       "      <td>1025500.0</td>\n",
       "      <td>0.471922</td>\n",
       "    </tr>\n",
       "    <tr>\n",
       "      <th>1999-11-04</th>\n",
       "      <td>107.00</td>\n",
       "      <td>107.40</td>\n",
       "      <td>106.100</td>\n",
       "      <td>106.60</td>\n",
       "      <td>578600.0</td>\n",
       "      <td>0.375940</td>\n",
       "    </tr>\n",
       "    <tr>\n",
       "      <th>1999-11-05</th>\n",
       "      <td>108.00</td>\n",
       "      <td>108.30</td>\n",
       "      <td>106.900</td>\n",
       "      <td>107.50</td>\n",
       "      <td>1139100.0</td>\n",
       "      <td>0.840734</td>\n",
       "    </tr>\n",
       "    <tr>\n",
       "      <th>1999-11-08</th>\n",
       "      <td>106.40</td>\n",
       "      <td>107.60</td>\n",
       "      <td>106.400</td>\n",
       "      <td>107.40</td>\n",
       "      <td>628600.0</td>\n",
       "      <td>-0.093067</td>\n",
       "    </tr>\n",
       "    <tr>\n",
       "      <th>...</th>\n",
       "      <td>...</td>\n",
       "      <td>...</td>\n",
       "      <td>...</td>\n",
       "      <td>...</td>\n",
       "      <td>...</td>\n",
       "      <td>...</td>\n",
       "    </tr>\n",
       "    <tr>\n",
       "      <th>2025-07-11</th>\n",
       "      <td>443.67</td>\n",
       "      <td>444.46</td>\n",
       "      <td>442.760</td>\n",
       "      <td>443.57</td>\n",
       "      <td>3345528.0</td>\n",
       "      <td>-0.658378</td>\n",
       "    </tr>\n",
       "    <tr>\n",
       "      <th>2025-07-14</th>\n",
       "      <td>443.11</td>\n",
       "      <td>444.76</td>\n",
       "      <td>442.475</td>\n",
       "      <td>444.58</td>\n",
       "      <td>2244693.0</td>\n",
       "      <td>0.227439</td>\n",
       "    </tr>\n",
       "    <tr>\n",
       "      <th>2025-07-15</th>\n",
       "      <td>444.58</td>\n",
       "      <td>445.17</td>\n",
       "      <td>440.140</td>\n",
       "      <td>440.15</td>\n",
       "      <td>3810728.0</td>\n",
       "      <td>-1.001444</td>\n",
       "    </tr>\n",
       "    <tr>\n",
       "      <th>2025-07-16</th>\n",
       "      <td>441.86</td>\n",
       "      <td>442.61</td>\n",
       "      <td>437.640</td>\n",
       "      <td>442.36</td>\n",
       "      <td>4230349.0</td>\n",
       "      <td>0.500845</td>\n",
       "    </tr>\n",
       "    <tr>\n",
       "      <th>2025-07-17</th>\n",
       "      <td>442.05</td>\n",
       "      <td>445.61</td>\n",
       "      <td>441.980</td>\n",
       "      <td>445.22</td>\n",
       "      <td>3790818.0</td>\n",
       "      <td>0.644451</td>\n",
       "    </tr>\n",
       "  </tbody>\n",
       "</table>\n",
       "<p>6465 rows × 6 columns</p>\n",
       "</div>"
      ],
      "text/plain": [
       "              open    high      low   close     volume   returns\n",
       "date                                                            \n",
       "1999-11-02  107.00  107.70  105.700  105.70   975300.0 -0.754009\n",
       "1999-11-03  106.80  106.80  105.800  106.20  1025500.0  0.471922\n",
       "1999-11-04  107.00  107.40  106.100  106.60   578600.0  0.375940\n",
       "1999-11-05  108.00  108.30  106.900  107.50  1139100.0  0.840734\n",
       "1999-11-08  106.40  107.60  106.400  107.40   628600.0 -0.093067\n",
       "...            ...     ...      ...     ...        ...       ...\n",
       "2025-07-11  443.67  444.46  442.760  443.57  3345528.0 -0.658378\n",
       "2025-07-14  443.11  444.76  442.475  444.58  2244693.0  0.227439\n",
       "2025-07-15  444.58  445.17  440.140  440.15  3810728.0 -1.001444\n",
       "2025-07-16  441.86  442.61  437.640  442.36  4230349.0  0.500845\n",
       "2025-07-17  442.05  445.61  441.980  445.22  3790818.0  0.644451\n",
       "\n",
       "[6465 rows x 6 columns]"
      ]
     },
     "execution_count": 20,
     "metadata": {},
     "output_type": "execute_result"
    }
   ],
   "source": [
    "df_DIA"
   ]
  },
  {
   "cell_type": "code",
   "execution_count": 21,
   "id": "d2591fea",
   "metadata": {},
   "outputs": [],
   "source": [
    "DIA_GARCH = GARCHWalkForward(df_DIA)\n",
    "pred_DIA_GARCH, params_DIA_GARCH, resids_DIA_GARCH = DIA_GARCH.fit_garch()\n",
    "mae_DIA_GARCH, mse_DIA_GARCH, rmse_DIA_GARCH, qlike_DIA_GARCH = DIA_GARCH.evaluate_model(pred_DIA_GARCH)"
   ]
  },
  {
   "cell_type": "code",
   "execution_count": 23,
   "id": "9cbb7b1e",
   "metadata": {},
   "outputs": [
    {
     "data": {
      "image/png": "[encoded data removed]",
      "text/plain": [
       "<Figure size 1000x600 with 1 Axes>"
      ]
     },
     "metadata": {},
     "output_type": "display_data"
    }
   ],
   "source": [
    "DIA_GARCH.plot_results(pred_DIA_GARCH)"
   ]
  },
  {
   "cell_type": "code",
   "execution_count": null,
   "id": "e4dd4cfc",
   "metadata": {},
   "outputs": [],
   "source": []
  }
 ],
 "metadata": {
  "kernelspec": {
   "display_name": ".venv",
   "language": "python",
   "name": "python3"
  },
  "language_info": {
   "codemirror_mode": {
    "name": "ipython",
    "version": 3
   },
   "file_extension": ".py",
   "mimetype": "text/x-python",
   "name": "python",
   "nbconvert_exporter": "python",
   "pygments_lexer": "ipython3",
   "version": "3.9.6"
  }
 },
 "nbformat": 4,
 "nbformat_minor": 5
}
