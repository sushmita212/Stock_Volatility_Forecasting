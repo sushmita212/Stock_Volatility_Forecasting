{
 "cells": [
  {
   "cell_type": "code",
   "execution_count": 1,
   "id": "141de181",
   "metadata": {},
   "outputs": [],
   "source": [
    "%load_ext autoreload\n",
    "%autoreload 2"
   ]
  },
  {
   "cell_type": "code",
   "execution_count": 2,
   "id": "5d43c3a9",
   "metadata": {},
   "outputs": [],
   "source": [
    "import warnings\n",
    "warnings.filterwarnings(\"ignore\")"
   ]
  },
  {
   "cell_type": "code",
   "execution_count": 27,
   "id": "6aacc71c",
   "metadata": {},
   "outputs": [],
   "source": [
    "import sqlite3\n",
    "import pandas as pd\n",
    "import numpy as np\n",
    "import matplotlib.pyplot as plt\n",
    "from data import stock_data\n",
    "from wfwGARCH import clusteringTest, GARCHWalkForward\n",
    "from statsmodels.graphics.tsaplots import plot_acf\n",
    "from hvPred import HVmodel"
   ]
  },
  {
   "cell_type": "code",
   "execution_count": 4,
   "id": "04f75c3a",
   "metadata": {},
   "outputs": [],
   "source": [
    "con = sqlite3.connect('stock_data.db', check_same_thread=False)"
   ]
  },
  {
   "cell_type": "code",
   "execution_count": 7,
   "id": "d1e6a8e5",
   "metadata": {},
   "outputs": [
    {
     "data": {
      "text/plain": [
       "10"
      ]
     },
     "execution_count": 7,
     "metadata": {},
     "output_type": "execute_result"
    }
   ],
   "source": [
    "health_tech=['CLSD','MRKR','XXII','WINT','CDNA','IMNN','OVID','JUNS','ATNF','ELUT']\n",
    "len(health_tech)"
   ]
  },
  {
   "cell_type": "code",
   "execution_count": 11,
   "id": "432c1c02",
   "metadata": {},
   "outputs": [
    {
     "data": {
      "text/plain": [
       "8"
      ]
     },
     "execution_count": 11,
     "metadata": {},
     "output_type": "execute_result"
    }
   ],
   "source": [
    "health_tech_stocks = [\n",
    "    \"MRNA\",  # Moderna Inc.\n",
    "    \"BIIB\",  # Biogen Inc.\n",
    "    \"VRTX\",  # Vertex Pharmaceuticals\n",
    "    \"REGN\",  # Regeneron Pharmaceuticals\n",
    "    \"ILMN\",  # Illumina Inc.\n",
    "    \"DXCM\",  # Dexcom Inc.\n",
    "    \"CRSP\",  # CRISPR Therapeutics (mid-cap but very volatile)\n",
    "    \"NVCR\"   # NovoCure Ltd. (mid-cap, high volatility)\n",
    "]\n",
    "len(health_tech_stocks)"
   ]
  },
  {
   "cell_type": "code",
   "execution_count": 12,
   "id": "9068f588",
   "metadata": {},
   "outputs": [
    {
     "data": {
      "text/plain": [
       "[False, False, False, False, False, False, False, False]"
      ]
     },
     "execution_count": 12,
     "metadata": {},
     "output_type": "execute_result"
    }
   ],
   "source": [
    "[st in health_tech for st in health_tech_stocks]"
   ]
  },
  {
   "cell_type": "code",
   "execution_count": null,
   "id": "ba4b7c86",
   "metadata": {},
   "outputs": [
    {
     "name": "stdout",
     "output_type": "stream",
     "text": [
      "Data for CLSD inserted into database\n",
      "Data for MRKR inserted into database\n",
      "Data for XXII inserted into database\n",
      "Data for WINT inserted into database\n",
      "Data for CDNA inserted into database\n",
      "Data for IMNN inserted into database\n",
      "Data for OVID inserted into database\n",
      "Data for JUNS inserted into database\n",
      "Data for ATNF inserted into database\n",
      "Data for ELUT inserted into database\n"
     ]
    }
   ],
   "source": [
    "for st in health_tech:\n",
    "    dt = stock_data(st)\n",
    "    dt.get_daily('full')\n",
    "    dt.insert_table(con, if_exists='replace')"
   ]
  },
  {
   "cell_type": "code",
   "execution_count": 15,
   "id": "33c0150b",
   "metadata": {},
   "outputs": [
    {
     "name": "stdout",
     "output_type": "stream",
     "text": [
      "Data for MRNA inserted into database\n",
      "Data for BIIB inserted into database\n",
      "Data for VRTX inserted into database\n",
      "Data for REGN inserted into database\n",
      "Data for ILMN inserted into database\n",
      "Data for DXCM inserted into database\n",
      "{'Information': 'We have detected your API key as YV04LNOO150FFVJZ and our standard API rate limit is 25 requests per day. Please subscribe to any of the premium plans at https://www.alphavantage.co/premium/ to instantly remove all daily rate limits.'}\n",
      "'stock_data' object has no attribute 'records'\n",
      "{'Information': 'We have detected your API key as YV04LNOO150FFVJZ and our standard API rate limit is 25 requests per day. Please subscribe to any of the premium plans at https://www.alphavantage.co/premium/ to instantly remove all daily rate limits.'}\n",
      "'stock_data' object has no attribute 'records'\n"
     ]
    }
   ],
   "source": [
    "for st in health_tech_stocks:\n",
    "    dt = stock_data(st)\n",
    "    dt.get_daily('full')\n",
    "    dt.insert_table(con, if_exists='replace')"
   ]
  },
  {
   "cell_type": "code",
   "execution_count": 16,
   "id": "e09ca1c4",
   "metadata": {},
   "outputs": [
    {
     "data": {
      "text/plain": [
       "['MRNA', 'BIIB', 'VRTX', 'REGN', 'ILMN', 'DXCM']"
      ]
     },
     "execution_count": 16,
     "metadata": {},
     "output_type": "execute_result"
    }
   ],
   "source": [
    "health_tech_stocks[:-2]"
   ]
  },
  {
   "cell_type": "code",
   "execution_count": null,
   "id": "0084c28e",
   "metadata": {},
   "outputs": [],
   "source": [
    "res = {}\n",
    "for st in health_tech:\n",
    "    dt = stock_data(st)\n",
    "    df = dt.load_data(con)\n",
    "    df.index = pd.to_datetime(df.index, format='ISO8601')\n",
    "    df.sort_index(inplace=True)\n",
    "    df['returns'] = np.log(df['close'] / df['close'].shift(1))*100\n",
    "    df.dropna(inplace=True)\n",
    "\n",
    "    ct = clusteringTest(df['returns'])\n",
    "    score = ct.clusteringScore()\n",
    "\n",
    "    res[st]=[len(df),score]\n",
    "    "
   ]
  },
  {
   "cell_type": "code",
   "execution_count": 17,
   "id": "d02fffa9",
   "metadata": {},
   "outputs": [],
   "source": [
    "res = {}\n",
    "for st in health_tech_stocks[:-2]:\n",
    "    dt = stock_data(st)\n",
    "    df = dt.load_data(con)\n",
    "    df.index = pd.to_datetime(df.index, format='ISO8601')\n",
    "    df.sort_index(inplace=True)\n",
    "    df['returns'] = np.log(df['close'] / df['close'].shift(1))*100\n",
    "    df.dropna(inplace=True)\n",
    "\n",
    "    ct = clusteringTest(df['returns'])\n",
    "    score = ct.clusteringScore()\n",
    "\n",
    "    res[st]=[len(df),score]\n",
    "    "
   ]
  },
  {
   "cell_type": "code",
   "execution_count": 10,
   "id": "721c368a",
   "metadata": {},
   "outputs": [
    {
     "data": {
      "text/html": [
       "<div>\n",
       "<style scoped>\n",
       "    .dataframe tbody tr th:only-of-type {\n",
       "        vertical-align: middle;\n",
       "    }\n",
       "\n",
       "    .dataframe tbody tr th {\n",
       "        vertical-align: top;\n",
       "    }\n",
       "\n",
       "    .dataframe thead th {\n",
       "        text-align: right;\n",
       "    }\n",
       "</style>\n",
       "<table border=\"1\" class=\"dataframe\">\n",
       "  <thead>\n",
       "    <tr style=\"text-align: right;\">\n",
       "      <th></th>\n",
       "      <th>Observations</th>\n",
       "      <th>Clustering Score</th>\n",
       "    </tr>\n",
       "  </thead>\n",
       "  <tbody>\n",
       "    <tr>\n",
       "      <th>JUNS</th>\n",
       "      <td>152</td>\n",
       "      <td>0.321</td>\n",
       "    </tr>\n",
       "    <tr>\n",
       "      <th>CDNA</th>\n",
       "      <td>2765</td>\n",
       "      <td>0.153</td>\n",
       "    </tr>\n",
       "    <tr>\n",
       "      <th>CLSD</th>\n",
       "      <td>2292</td>\n",
       "      <td>0.093</td>\n",
       "    </tr>\n",
       "    <tr>\n",
       "      <th>ELUT</th>\n",
       "      <td>1196</td>\n",
       "      <td>0.077</td>\n",
       "    </tr>\n",
       "    <tr>\n",
       "      <th>ATNF</th>\n",
       "      <td>2016</td>\n",
       "      <td>0.026</td>\n",
       "    </tr>\n",
       "    <tr>\n",
       "      <th>XXII</th>\n",
       "      <td>3638</td>\n",
       "      <td>0.019</td>\n",
       "    </tr>\n",
       "    <tr>\n",
       "      <th>IMNN</th>\n",
       "      <td>6464</td>\n",
       "      <td>0.016</td>\n",
       "    </tr>\n",
       "    <tr>\n",
       "      <th>OVID</th>\n",
       "      <td>2059</td>\n",
       "      <td>0.010</td>\n",
       "    </tr>\n",
       "    <tr>\n",
       "      <th>WINT</th>\n",
       "      <td>2388</td>\n",
       "      <td>0.001</td>\n",
       "    </tr>\n",
       "    <tr>\n",
       "      <th>MRKR</th>\n",
       "      <td>2844</td>\n",
       "      <td>0.000</td>\n",
       "    </tr>\n",
       "  </tbody>\n",
       "</table>\n",
       "</div>"
      ],
      "text/plain": [
       "      Observations  Clustering Score\n",
       "JUNS           152             0.321\n",
       "CDNA          2765             0.153\n",
       "CLSD          2292             0.093\n",
       "ELUT          1196             0.077\n",
       "ATNF          2016             0.026\n",
       "XXII          3638             0.019\n",
       "IMNN          6464             0.016\n",
       "OVID          2059             0.010\n",
       "WINT          2388             0.001\n",
       "MRKR          2844             0.000"
      ]
     },
     "execution_count": 10,
     "metadata": {},
     "output_type": "execute_result"
    }
   ],
   "source": [
    "df_clustering = pd.DataFrame.from_dict(res, orient='index', columns=[\"Observations\", \"Clustering Score\"])\n",
    "df_clustering.sort_values(by='Clustering Score',ascending=False, inplace=True)\n",
    "df_clustering"
   ]
  },
  {
   "cell_type": "code",
   "execution_count": 18,
   "id": "3d6dbc29",
   "metadata": {},
   "outputs": [
    {
     "data": {
      "text/html": [
       "<div>\n",
       "<style scoped>\n",
       "    .dataframe tbody tr th:only-of-type {\n",
       "        vertical-align: middle;\n",
       "    }\n",
       "\n",
       "    .dataframe tbody tr th {\n",
       "        vertical-align: top;\n",
       "    }\n",
       "\n",
       "    .dataframe thead th {\n",
       "        text-align: right;\n",
       "    }\n",
       "</style>\n",
       "<table border=\"1\" class=\"dataframe\">\n",
       "  <thead>\n",
       "    <tr style=\"text-align: right;\">\n",
       "      <th></th>\n",
       "      <th>Observations</th>\n",
       "      <th>Clustering Score</th>\n",
       "    </tr>\n",
       "  </thead>\n",
       "  <tbody>\n",
       "    <tr>\n",
       "      <th>MRNA</th>\n",
       "      <td>1658</td>\n",
       "      <td>0.558</td>\n",
       "    </tr>\n",
       "    <tr>\n",
       "      <th>REGN</th>\n",
       "      <td>6464</td>\n",
       "      <td>0.183</td>\n",
       "    </tr>\n",
       "    <tr>\n",
       "      <th>ILMN</th>\n",
       "      <td>6277</td>\n",
       "      <td>0.166</td>\n",
       "    </tr>\n",
       "    <tr>\n",
       "      <th>VRTX</th>\n",
       "      <td>6464</td>\n",
       "      <td>0.119</td>\n",
       "    </tr>\n",
       "    <tr>\n",
       "      <th>BIIB</th>\n",
       "      <td>6464</td>\n",
       "      <td>0.043</td>\n",
       "    </tr>\n",
       "    <tr>\n",
       "      <th>DXCM</th>\n",
       "      <td>5095</td>\n",
       "      <td>0.004</td>\n",
       "    </tr>\n",
       "  </tbody>\n",
       "</table>\n",
       "</div>"
      ],
      "text/plain": [
       "      Observations  Clustering Score\n",
       "MRNA          1658             0.558\n",
       "REGN          6464             0.183\n",
       "ILMN          6277             0.166\n",
       "VRTX          6464             0.119\n",
       "BIIB          6464             0.043\n",
       "DXCM          5095             0.004"
      ]
     },
     "execution_count": 18,
     "metadata": {},
     "output_type": "execute_result"
    }
   ],
   "source": [
    "df_clustering = pd.DataFrame.from_dict(res, orient='index', columns=[\"Observations\", \"Clustering Score\"])\n",
    "df_clustering.sort_values(by='Clustering Score',ascending=False, inplace=True)\n",
    "df_clustering"
   ]
  },
  {
   "cell_type": "code",
   "execution_count": 21,
   "id": "3fd068d8",
   "metadata": {},
   "outputs": [],
   "source": [
    "def get_stock_data(stock_list):\n",
    "    df_dict = {}\n",
    "    for stock in stock_list:\n",
    "        st = stock_data(stock)\n",
    "        df = st.load_data(con)\n",
    "        df.index = pd.to_datetime(df.index, format='ISO8601')\n",
    "        df.sort_index(inplace=True)\n",
    "        df_dict[stock] = df\n",
    "        df_dict[stock]['returns'] = np.log(df['close'] / df['close'].shift(1))*100 \n",
    "        df_dict[stock].dropna(inplace=True)\n",
    "    return df_dict"
   ]
  },
  {
   "cell_type": "code",
   "execution_count": 22,
   "id": "78631f16",
   "metadata": {},
   "outputs": [],
   "source": [
    "df_health_tech = get_stock_data(health_tech)"
   ]
  },
  {
   "cell_type": "code",
   "execution_count": null,
   "id": "744ea21f",
   "metadata": {},
   "outputs": [],
   "source": []
  },
  {
   "cell_type": "code",
   "execution_count": 30,
   "id": "d51be504",
   "metadata": {},
   "outputs": [
    {
     "data": {
      "image/png": "[encoded data removed]",
      "text/plain": [
       "<Figure size 640x480 with 1 Axes>"
      ]
     },
     "metadata": {},
     "output_type": "display_data"
    }
   ],
   "source": [
    "df_health_tech['CDNA']['returns'].plot()\n",
    "plt.show()"
   ]
  },
  {
   "cell_type": "code",
   "execution_count": null,
   "id": "84160bbc",
   "metadata": {},
   "outputs": [],
   "source": [
    "ct = clusteringTest(df_health_tech['']['returns'])"
   ]
  },
  {
   "cell_type": "code",
   "execution_count": 32,
   "id": "e924f8ab",
   "metadata": {},
   "outputs": [
    {
     "data": {
      "image/png": "[encoded data removed]",
      "text/plain": [
       "<Figure size 1000x500 with 1 Axes>"
      ]
     },
     "metadata": {},
     "output_type": "display_data"
    }
   ],
   "source": [
    "ct.plotACF()"
   ]
  },
  {
   "cell_type": "code",
   "execution_count": null,
   "id": "1f0ca63f",
   "metadata": {},
   "outputs": [],
   "source": []
  }
 ],
 "metadata": {
  "kernelspec": {
   "display_name": ".venv",
   "language": "python",
   "name": "python3"
  },
  "language_info": {
   "codemirror_mode": {
    "name": "ipython",
    "version": 3
   },
   "file_extension": ".py",
   "mimetype": "text/x-python",
   "name": "python",
   "nbconvert_exporter": "python",
   "pygments_lexer": "ipython3",
   "version": "3.9.6"
  }
 },
 "nbformat": 4,
 "nbformat_minor": 5
}
