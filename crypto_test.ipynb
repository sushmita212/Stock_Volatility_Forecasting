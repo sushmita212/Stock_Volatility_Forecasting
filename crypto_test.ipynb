{
 "cells": [
  {
   "cell_type": "code",
   "execution_count": 1,
   "id": "bf7a8d46",
   "metadata": {},
   "outputs": [],
   "source": [
    "import warnings\n",
    "warnings.filterwarnings(\"ignore\")"
   ]
  },
  {
   "cell_type": "code",
   "execution_count": 12,
   "id": "9d01e1a2",
   "metadata": {},
   "outputs": [],
   "source": [
    "import os\n",
    "import requests\n",
    "from dotenv import load_dotenv\n",
    "import pandas as pd"
   ]
  },
  {
   "cell_type": "code",
   "execution_count": 4,
   "id": "fb76b180",
   "metadata": {},
   "outputs": [
    {
     "data": {
      "text/plain": [
       "True"
      ]
     },
     "execution_count": 4,
     "metadata": {},
     "output_type": "execute_result"
    }
   ],
   "source": [
    "load_dotenv()"
   ]
  },
  {
   "cell_type": "code",
   "execution_count": 3,
   "id": "d45cdf24",
   "metadata": {},
   "outputs": [],
   "source": [
    "api_key = os.getenv(\"AV_API_KEY\")"
   ]
  },
  {
   "cell_type": "code",
   "execution_count": 5,
   "id": "90b38e49",
   "metadata": {},
   "outputs": [],
   "source": [
    "crypto_tickers = {\"BTC\", \"ETH\", \"LTC\", \"SOL\", \"XRP\", \"ADA\", \"BNB\", \"DOGE\", \"AVAX\", \"DOT\"}"
   ]
  },
  {
   "cell_type": "code",
   "execution_count": 24,
   "id": "6ec7c9b4",
   "metadata": {},
   "outputs": [],
   "source": [
    "base_url = \"https://www.alphavantage.co/query\"\n",
    "function = \"DIGITAL_CURRENCY_DAILY\"\n",
    "params = {\n",
    "    \"function\": function,\n",
    "    \"symbol\": \"ETH\",\n",
    "    \"market\": \"USD\",\n",
    "    \"apikey\": api_key\n",
    "}"
   ]
  },
  {
   "cell_type": "code",
   "execution_count": 25,
   "id": "c491f99d",
   "metadata": {},
   "outputs": [],
   "source": [
    "response = requests.get(base_url, params=params)\n",
    "data = response.json()"
   ]
  },
  {
   "cell_type": "code",
   "execution_count": 26,
   "id": "e38ae3a1",
   "metadata": {},
   "outputs": [],
   "source": [
    "stock_data = data['Time Series (Digital Currency Daily)']\n",
    "df = pd.DataFrame.from_dict(stock_data,orient=\"index\", dtype=float)"
   ]
  },
  {
   "cell_type": "code",
   "execution_count": 27,
   "id": "9631ad2b",
   "metadata": {},
   "outputs": [
    {
     "data": {
      "text/html": [
       "<div>\n",
       "<style scoped>\n",
       "    .dataframe tbody tr th:only-of-type {\n",
       "        vertical-align: middle;\n",
       "    }\n",
       "\n",
       "    .dataframe tbody tr th {\n",
       "        vertical-align: top;\n",
       "    }\n",
       "\n",
       "    .dataframe thead th {\n",
       "        text-align: right;\n",
       "    }\n",
       "</style>\n",
       "<table border=\"1\" class=\"dataframe\">\n",
       "  <thead>\n",
       "    <tr style=\"text-align: right;\">\n",
       "      <th></th>\n",
       "      <th>1. open</th>\n",
       "      <th>2. high</th>\n",
       "      <th>3. low</th>\n",
       "      <th>4. close</th>\n",
       "      <th>5. volume</th>\n",
       "    </tr>\n",
       "  </thead>\n",
       "  <tbody>\n",
       "    <tr>\n",
       "      <th>2025-07-18</th>\n",
       "      <td>3479.78</td>\n",
       "      <td>3499.72</td>\n",
       "      <td>3461.68</td>\n",
       "      <td>3497.79</td>\n",
       "      <td>5737.510685</td>\n",
       "    </tr>\n",
       "    <tr>\n",
       "      <th>2025-07-17</th>\n",
       "      <td>3373.20</td>\n",
       "      <td>3526.73</td>\n",
       "      <td>3311.01</td>\n",
       "      <td>3479.77</td>\n",
       "      <td>274593.749258</td>\n",
       "    </tr>\n",
       "    <tr>\n",
       "      <th>2025-07-16</th>\n",
       "      <td>3138.79</td>\n",
       "      <td>3425.89</td>\n",
       "      <td>3101.25</td>\n",
       "      <td>3373.12</td>\n",
       "      <td>292334.524072</td>\n",
       "    </tr>\n",
       "    <tr>\n",
       "      <th>2025-07-15</th>\n",
       "      <td>3014.41</td>\n",
       "      <td>3144.81</td>\n",
       "      <td>2933.00</td>\n",
       "      <td>3138.01</td>\n",
       "      <td>179476.731968</td>\n",
       "    </tr>\n",
       "    <tr>\n",
       "      <th>2025-07-14</th>\n",
       "      <td>2973.48</td>\n",
       "      <td>3083.52</td>\n",
       "      <td>2964.20</td>\n",
       "      <td>3014.53</td>\n",
       "      <td>192451.972654</td>\n",
       "    </tr>\n",
       "    <tr>\n",
       "      <th>...</th>\n",
       "      <td>...</td>\n",
       "      <td>...</td>\n",
       "      <td>...</td>\n",
       "      <td>...</td>\n",
       "      <td>...</td>\n",
       "    </tr>\n",
       "    <tr>\n",
       "      <th>2024-08-07</th>\n",
       "      <td>2462.26</td>\n",
       "      <td>2552.77</td>\n",
       "      <td>2308.94</td>\n",
       "      <td>2343.66</td>\n",
       "      <td>212737.269811</td>\n",
       "    </tr>\n",
       "    <tr>\n",
       "      <th>2024-08-06</th>\n",
       "      <td>2420.79</td>\n",
       "      <td>2556.62</td>\n",
       "      <td>2415.69</td>\n",
       "      <td>2462.52</td>\n",
       "      <td>240973.218804</td>\n",
       "    </tr>\n",
       "    <tr>\n",
       "      <th>2024-08-05</th>\n",
       "      <td>2688.38</td>\n",
       "      <td>2696.41</td>\n",
       "      <td>2116.02</td>\n",
       "      <td>2420.37</td>\n",
       "      <td>750156.044004</td>\n",
       "    </tr>\n",
       "    <tr>\n",
       "      <th>2024-08-04</th>\n",
       "      <td>2901.98</td>\n",
       "      <td>2933.13</td>\n",
       "      <td>2626.17</td>\n",
       "      <td>2688.31</td>\n",
       "      <td>110939.310004</td>\n",
       "    </tr>\n",
       "    <tr>\n",
       "      <th>2024-08-03</th>\n",
       "      <td>2985.88</td>\n",
       "      <td>3016.19</td>\n",
       "      <td>2857.35</td>\n",
       "      <td>2901.72</td>\n",
       "      <td>77878.902391</td>\n",
       "    </tr>\n",
       "  </tbody>\n",
       "</table>\n",
       "<p>350 rows × 5 columns</p>\n",
       "</div>"
      ],
      "text/plain": [
       "            1. open  2. high   3. low  4. close      5. volume\n",
       "2025-07-18  3479.78  3499.72  3461.68   3497.79    5737.510685\n",
       "2025-07-17  3373.20  3526.73  3311.01   3479.77  274593.749258\n",
       "2025-07-16  3138.79  3425.89  3101.25   3373.12  292334.524072\n",
       "2025-07-15  3014.41  3144.81  2933.00   3138.01  179476.731968\n",
       "2025-07-14  2973.48  3083.52  2964.20   3014.53  192451.972654\n",
       "...             ...      ...      ...       ...            ...\n",
       "2024-08-07  2462.26  2552.77  2308.94   2343.66  212737.269811\n",
       "2024-08-06  2420.79  2556.62  2415.69   2462.52  240973.218804\n",
       "2024-08-05  2688.38  2696.41  2116.02   2420.37  750156.044004\n",
       "2024-08-04  2901.98  2933.13  2626.17   2688.31  110939.310004\n",
       "2024-08-03  2985.88  3016.19  2857.35   2901.72   77878.902391\n",
       "\n",
       "[350 rows x 5 columns]"
      ]
     },
     "execution_count": 27,
     "metadata": {},
     "output_type": "execute_result"
    }
   ],
   "source": [
    "df"
   ]
  },
  {
   "cell_type": "code",
   "execution_count": 22,
   "id": "02985349",
   "metadata": {},
   "outputs": [
    {
     "data": {
      "text/plain": [
       "dict_keys(['Meta Data', 'Time Series (Digital Currency Daily)'])"
      ]
     },
     "execution_count": 22,
     "metadata": {},
     "output_type": "execute_result"
    }
   ],
   "source": [
    "data.keys()"
   ]
  },
  {
   "cell_type": "code",
   "execution_count": 23,
   "id": "d9b542f0",
   "metadata": {},
   "outputs": [
    {
     "data": {
      "text/plain": [
       "{'1. Information': 'Daily Prices and Volumes for Digital Currency',\n",
       " '2. Digital Currency Code': 'BTC',\n",
       " '3. Digital Currency Name': 'Bitcoin',\n",
       " '4. Market Code': 'USD',\n",
       " '5. Market Name': 'United States Dollar',\n",
       " '6. Last Refreshed': '2025-07-18 00:00:00',\n",
       " '7. Time Zone': 'UTC'}"
      ]
     },
     "execution_count": 23,
     "metadata": {},
     "output_type": "execute_result"
    }
   ],
   "source": [
    "data['Meta Data']"
   ]
  },
  {
   "cell_type": "code",
   "execution_count": null,
   "id": "9a45b8ec",
   "metadata": {},
   "outputs": [],
   "source": []
  }
 ],
 "metadata": {
  "kernelspec": {
   "display_name": ".venv",
   "language": "python",
   "name": "python3"
  },
  "language_info": {
   "codemirror_mode": {
    "name": "ipython",
    "version": 3
   },
   "file_extension": ".py",
   "mimetype": "text/x-python",
   "name": "python",
   "nbconvert_exporter": "python",
   "pygments_lexer": "ipython3",
   "version": "3.9.6"
  }
 },
 "nbformat": 4,
 "nbformat_minor": 5
}
