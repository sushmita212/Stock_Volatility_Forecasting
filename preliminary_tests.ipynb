{
 "cells": [
  {
   "cell_type": "markdown",
   "id": "9a52f9d1",
   "metadata": {},
   "source": [
    "## Objective:\n",
    "In this notebook, we explore the presence of volatility clustering in stocks across various sectors by analyzing return series and computing clustering scores.\n",
    "\n",
    "Volatility clustering is a phenomenon where high-volatility periods tend to follow high-volatility periods, and low follows low. Detecting clustering is important for selecting appropriate volatility models.\n",
    "\n",
    "- We visualize the log returns and ACF of squared returns for several stocks to examine the persistence in volatility over time.\n",
    "- We visualize the log returns and ACF of squared returns for several stocks to examine the persistence in volatility over time."
   ]
  },
  {
   "cell_type": "code",
   "execution_count": 1,
   "id": "10bed7c1",
   "metadata": {},
   "outputs": [],
   "source": [
    "%load_ext autoreload\n",
    "%autoreload 2"
   ]
  },
  {
   "cell_type": "code",
   "execution_count": 2,
   "id": "776202a6",
   "metadata": {},
   "outputs": [],
   "source": [
    "import warnings\n",
    "warnings.filterwarnings(\"ignore\")"
   ]
  },
  {
   "cell_type": "code",
   "execution_count": 17,
   "id": "6c74233e",
   "metadata": {},
   "outputs": [],
   "source": [
    "import sqlite3\n",
    "import pandas as pd\n",
    "import numpy as np\n",
    "import matplotlib.pyplot as plt\n",
    "from data import stock_data\n",
    "from wfwGARCH import clusteringTest, GARCHWalkForward\n",
    "from hvPred import HVmodel"
   ]
  },
  {
   "cell_type": "code",
   "execution_count": 18,
   "id": "7f8add12",
   "metadata": {},
   "outputs": [],
   "source": [
    "con = sqlite3.connect('stock_data.db', check_same_thread=False)"
   ]
  },
  {
   "cell_type": "code",
   "execution_count": 13,
   "id": "79d749df",
   "metadata": {},
   "outputs": [],
   "source": [
    "finance = [\n",
    "    \"JPM\",  # JPMorgan Chase\n",
    "    \"BAC\",  # Bank of America\n",
    "    \"C\",    # Citigroup\n",
    "    \"GS\",   # Goldman Sachs\n",
    "    \"MS\",   # Morgan Stanley\n",
    "    \"AXP\",  # American Express\n",
    "    \"WFC\",  # Wells Fargo\n",
    "    \"USB\",  # U.S. Bancorp\n",
    "    \"PNC\",  # PNC Financial Services\n",
    "    \"SCHW\"  # Charles Schwab\n",
    "]\n",
    "\n",
    "tech = [\n",
    "    \"AAPL\",  # Apple\n",
    "    \"MSFT\",  # Microsoft\n",
    "    \"NVDA\",  # Nvidia\n",
    "    \"GOOGL\", # Alphabet (Google)\n",
    "    \"AMD\",   # Advanced Micro Devices\n",
    "    \"INTC\",  # Intel\n",
    "    \"TSLA\",  # Tesla (tech-adjacent)\n",
    "    \"CRM\",   # Salesforce\n",
    "    \"ORCL\",  # Oracle\n",
    "    \"AVGO\"   # Broadcom\n",
    "]\n",
    "\n",
    "etf = [\n",
    "    \"SPY\",   # S&P 500 ETF\n",
    "    \"QQQ\",   # Nasdaq 100 ETF\n",
    "    \"IWM\",   # Russell 2000 ETF\n",
    "    \"VXX\",   # Volatility ETF\n",
    "    \"XLK\",   # Technology Sector ETF\n",
    "    \"XLF\",   # Financial Sector ETF\n",
    "    \"ARKK\",  # ARK Innovation ETF\n",
    "    \"DIA\",   # Dow Jones ETF\n",
    "    \"EEM\",   # Emerging Markets ETF\n",
    "    \"TLT\"    # 20+ Year Treasury Bond ETF\n",
    "]\n",
    "\n",
    "health_tech = [\n",
    "    \"MRNA\",  # Moderna Inc.\n",
    "    \"BIIB\",  # Biogen Inc.\n",
    "    \"VRTX\",  # Vertex Pharmaceuticals\n",
    "    \"REGN\",  # Regeneron Pharmaceuticals\n",
    "    \"ILMN\",  # Illumina Inc.\n",
    "    \"DXCM\",  # Dexcom Inc.\n",
    "    \"CRSP\",  # CRISPR Therapeutics (mid-cap but very volatile)\n",
    "    \"NVCR\"   # NovoCure Ltd. (mid-cap, high volatility)\n",
    "]\n",
    "\n",
    "commodity = [\n",
    "    # Energy\n",
    "    \"XOM\",  # Exxon Mobil\n",
    "    \"CVX\",  # Chevron\n",
    "    \"SLB\",  # Schlumberger\n",
    "\n",
    "    # Metals & Mining\n",
    "    \"NEM\",  # Newmont Corporation (Gold)\n",
    "    \"GOLD\", # Barrick Gold\n",
    "    \"FCX\",  # Freeport-McMoRan (Copper)\n",
    "\n",
    "    # Agriculture\n",
    "    \"ADM\",  # Archer Daniels Midland\n",
    "    \"MOS\",  # Mosaic (Fertilizers)\n",
    "    \"BG\"    # Bunge Ltd.\n",
    "]\n"
   ]
  },
  {
   "cell_type": "code",
   "execution_count": 14,
   "id": "a37d091a",
   "metadata": {},
   "outputs": [
    {
     "data": {
      "text/plain": [
       "47"
      ]
     },
     "execution_count": 14,
     "metadata": {},
     "output_type": "execute_result"
    }
   ],
   "source": [
    "all_stocks = finance + tech + etf + health_tech +commodity\n",
    "len(all_stocks)"
   ]
  },
  {
   "cell_type": "code",
   "execution_count": 20,
   "id": "a7f22e14",
   "metadata": {},
   "outputs": [],
   "source": [
    "stock_list=list(pd.read_sql(\"SELECT name FROM sqlite_master WHERE type='table';\", con)['name'])"
   ]
  },
  {
   "cell_type": "markdown",
   "id": "b1bf2419",
   "metadata": {},
   "source": [
    "### Download and insert data into stock_data.db"
   ]
  },
  {
   "cell_type": "code",
   "execution_count": 23,
   "id": "73087fc7",
   "metadata": {},
   "outputs": [],
   "source": [
    "for st in all_stocks:\n",
    "    if st not in stock_list:\n",
    "        dt = stock_data(st,ticker=st)\n",
    "        dt.get_daily('full')\n",
    "        dt.insert_table(con, if_exists='replace')\n"
   ]
  },
  {
   "cell_type": "markdown",
   "id": "686a3e42",
   "metadata": {},
   "source": [
    "### Get data for different sectors"
   ]
  },
  {
   "cell_type": "code",
   "execution_count": 28,
   "id": "1c225039",
   "metadata": {},
   "outputs": [],
   "source": [
    "def get_stock_data(stock_list):\n",
    "    df_dict = {}\n",
    "    for st in stock_list:\n",
    "        dt = stock_data(st,)\n",
    "        df = dt.load_data(con)\n",
    "        df_dict[st] = df\n",
    "    return df_dict"
   ]
  },
  {
   "cell_type": "code",
   "execution_count": 32,
   "id": "2c2930e6",
   "metadata": {},
   "outputs": [],
   "source": [
    "df_finance = get_stock_data(finance)\n",
    "df_tech = get_stock_data(tech)\n",
    "df_etf = get_stock_data(etf)\n",
    "df_health_tech = get_stock_data(health_tech)\n",
    "df_commodity = get_stock_data(commodity)\n"
   ]
  },
  {
   "cell_type": "markdown",
   "id": "e64e9f84",
   "metadata": {},
   "source": [
    "## Calculate clustering score for different sectors"
   ]
  },
  {
   "cell_type": "code",
   "execution_count": 33,
   "id": "2e221008",
   "metadata": {},
   "outputs": [],
   "source": [
    "def clustering(df_dict, sector):\n",
    "    res = {}\n",
    "    for st in df_dict.keys():\n",
    "        ct = clusteringTest(df_dict[st]['returns'])\n",
    "        score = ct.clusteringScore()\n",
    "        res[st]=[sector,len(df_dict[st]),score]\n",
    "    return res\n"
   ]
  },
  {
   "cell_type": "markdown",
   "id": "2786ccda",
   "metadata": {},
   "source": [
    "## Finance Sector"
   ]
  },
  {
   "cell_type": "code",
   "execution_count": 37,
   "id": "11f3e78c",
   "metadata": {},
   "outputs": [],
   "source": [
    "finance_clustering_dict = clustering(df_finance,'Finance')"
   ]
  },
  {
   "cell_type": "code",
   "execution_count": 38,
   "id": "1cf3af13",
   "metadata": {},
   "outputs": [],
   "source": [
    "finance_clustering = pd.DataFrame.from_dict(finance_clustering_dict, orient='index', columns=['Sector', '#Observations','Clustering Score'])"
   ]
  },
  {
   "cell_type": "code",
   "execution_count": 39,
   "id": "fad80486",
   "metadata": {},
   "outputs": [
    {
     "data": {
      "text/html": [
       "<div>\n",
       "<style scoped>\n",
       "    .dataframe tbody tr th:only-of-type {\n",
       "        vertical-align: middle;\n",
       "    }\n",
       "\n",
       "    .dataframe tbody tr th {\n",
       "        vertical-align: top;\n",
       "    }\n",
       "\n",
       "    .dataframe thead th {\n",
       "        text-align: right;\n",
       "    }\n",
       "</style>\n",
       "<table border=\"1\" class=\"dataframe\">\n",
       "  <thead>\n",
       "    <tr style=\"text-align: right;\">\n",
       "      <th></th>\n",
       "      <th>Sector</th>\n",
       "      <th>#Observations</th>\n",
       "      <th>Clustering Score</th>\n",
       "    </tr>\n",
       "  </thead>\n",
       "  <tbody>\n",
       "    <tr>\n",
       "      <th>GS</th>\n",
       "      <td>Finance</td>\n",
       "      <td>6463</td>\n",
       "      <td>1.069</td>\n",
       "    </tr>\n",
       "    <tr>\n",
       "      <th>JPM</th>\n",
       "      <td>Finance</td>\n",
       "      <td>6463</td>\n",
       "      <td>0.697</td>\n",
       "    </tr>\n",
       "    <tr>\n",
       "      <th>SCHW</th>\n",
       "      <td>Finance</td>\n",
       "      <td>6463</td>\n",
       "      <td>0.611</td>\n",
       "    </tr>\n",
       "    <tr>\n",
       "      <th>USB</th>\n",
       "      <td>Finance</td>\n",
       "      <td>6463</td>\n",
       "      <td>0.609</td>\n",
       "    </tr>\n",
       "    <tr>\n",
       "      <th>PNC</th>\n",
       "      <td>Finance</td>\n",
       "      <td>6463</td>\n",
       "      <td>0.581</td>\n",
       "    </tr>\n",
       "    <tr>\n",
       "      <th>MS</th>\n",
       "      <td>Finance</td>\n",
       "      <td>6463</td>\n",
       "      <td>0.493</td>\n",
       "    </tr>\n",
       "    <tr>\n",
       "      <th>BAC</th>\n",
       "      <td>Finance</td>\n",
       "      <td>6463</td>\n",
       "      <td>0.391</td>\n",
       "    </tr>\n",
       "    <tr>\n",
       "      <th>WFC</th>\n",
       "      <td>Finance</td>\n",
       "      <td>6463</td>\n",
       "      <td>0.186</td>\n",
       "    </tr>\n",
       "    <tr>\n",
       "      <th>AXP</th>\n",
       "      <td>Finance</td>\n",
       "      <td>6463</td>\n",
       "      <td>0.020</td>\n",
       "    </tr>\n",
       "    <tr>\n",
       "      <th>C</th>\n",
       "      <td>Finance</td>\n",
       "      <td>6463</td>\n",
       "      <td>0.008</td>\n",
       "    </tr>\n",
       "  </tbody>\n",
       "</table>\n",
       "</div>"
      ],
      "text/plain": [
       "       Sector  #Observations  Clustering Score\n",
       "GS    Finance           6463             1.069\n",
       "JPM   Finance           6463             0.697\n",
       "SCHW  Finance           6463             0.611\n",
       "USB   Finance           6463             0.609\n",
       "PNC   Finance           6463             0.581\n",
       "MS    Finance           6463             0.493\n",
       "BAC   Finance           6463             0.391\n",
       "WFC   Finance           6463             0.186\n",
       "AXP   Finance           6463             0.020\n",
       "C     Finance           6463             0.008"
      ]
     },
     "execution_count": 39,
     "metadata": {},
     "output_type": "execute_result"
    }
   ],
   "source": [
    "finance_clustering.sort_values(by='Clustering Score', ascending=False)"
   ]
  },
  {
   "cell_type": "markdown",
   "id": "b8e4e348",
   "metadata": {},
   "source": [
    "## Tech Sector"
   ]
  },
  {
   "cell_type": "code",
   "execution_count": 20,
   "id": "b5e94f5f",
   "metadata": {},
   "outputs": [],
   "source": [
    "tech_clustering_dict = clustering(df_tech, sector='Technology')"
   ]
  },
  {
   "cell_type": "code",
   "execution_count": 21,
   "id": "1b54e554",
   "metadata": {},
   "outputs": [],
   "source": [
    "tech_clustering = pd.DataFrame.from_dict(tech_clustering_dict, orient='index', columns=['Sector', '#Observations','Clustering Score'])"
   ]
  },
  {
   "cell_type": "code",
   "execution_count": 22,
   "id": "febb3f15",
   "metadata": {},
   "outputs": [
    {
     "data": {
      "text/html": [
       "<div>\n",
       "<style scoped>\n",
       "    .dataframe tbody tr th:only-of-type {\n",
       "        vertical-align: middle;\n",
       "    }\n",
       "\n",
       "    .dataframe tbody tr th {\n",
       "        vertical-align: top;\n",
       "    }\n",
       "\n",
       "    .dataframe thead th {\n",
       "        text-align: right;\n",
       "    }\n",
       "</style>\n",
       "<table border=\"1\" class=\"dataframe\">\n",
       "  <thead>\n",
       "    <tr style=\"text-align: right;\">\n",
       "      <th></th>\n",
       "      <th>Sector</th>\n",
       "      <th>#Observations</th>\n",
       "      <th>Clustering Score</th>\n",
       "    </tr>\n",
       "  </thead>\n",
       "  <tbody>\n",
       "    <tr>\n",
       "      <th>AMD</th>\n",
       "      <td>Technology</td>\n",
       "      <td>6463</td>\n",
       "      <td>0.115</td>\n",
       "    </tr>\n",
       "    <tr>\n",
       "      <th>INTC</th>\n",
       "      <td>Technology</td>\n",
       "      <td>6463</td>\n",
       "      <td>0.092</td>\n",
       "    </tr>\n",
       "    <tr>\n",
       "      <th>ORCL</th>\n",
       "      <td>Technology</td>\n",
       "      <td>6463</td>\n",
       "      <td>0.092</td>\n",
       "    </tr>\n",
       "    <tr>\n",
       "      <th>MSFT</th>\n",
       "      <td>Technology</td>\n",
       "      <td>6463</td>\n",
       "      <td>0.034</td>\n",
       "    </tr>\n",
       "    <tr>\n",
       "      <th>TSLA</th>\n",
       "      <td>Technology</td>\n",
       "      <td>3783</td>\n",
       "      <td>0.021</td>\n",
       "    </tr>\n",
       "    <tr>\n",
       "      <th>NVDA</th>\n",
       "      <td>Technology</td>\n",
       "      <td>6463</td>\n",
       "      <td>0.002</td>\n",
       "    </tr>\n",
       "    <tr>\n",
       "      <th>AAPL</th>\n",
       "      <td>Technology</td>\n",
       "      <td>6463</td>\n",
       "      <td>-0.000</td>\n",
       "    </tr>\n",
       "    <tr>\n",
       "      <th>CRM</th>\n",
       "      <td>Technology</td>\n",
       "      <td>5298</td>\n",
       "      <td>-0.000</td>\n",
       "    </tr>\n",
       "    <tr>\n",
       "      <th>AVGO</th>\n",
       "      <td>Technology</td>\n",
       "      <td>4008</td>\n",
       "      <td>-0.000</td>\n",
       "    </tr>\n",
       "    <tr>\n",
       "      <th>GOOGL</th>\n",
       "      <td>Technology</td>\n",
       "      <td>5258</td>\n",
       "      <td>-0.001</td>\n",
       "    </tr>\n",
       "  </tbody>\n",
       "</table>\n",
       "</div>"
      ],
      "text/plain": [
       "           Sector  #Observations  Clustering Score\n",
       "AMD    Technology           6463             0.115\n",
       "INTC   Technology           6463             0.092\n",
       "ORCL   Technology           6463             0.092\n",
       "MSFT   Technology           6463             0.034\n",
       "TSLA   Technology           3783             0.021\n",
       "NVDA   Technology           6463             0.002\n",
       "AAPL   Technology           6463            -0.000\n",
       "CRM    Technology           5298            -0.000\n",
       "AVGO   Technology           4008            -0.000\n",
       "GOOGL  Technology           5258            -0.001"
      ]
     },
     "execution_count": 22,
     "metadata": {},
     "output_type": "execute_result"
    }
   ],
   "source": [
    "tech_clustering.sort_values(by='Clustering Score', ascending=False)"
   ]
  },
  {
   "cell_type": "markdown",
   "id": "11dde8d4",
   "metadata": {},
   "source": [
    "## ETF sector"
   ]
  },
  {
   "cell_type": "code",
   "execution_count": 23,
   "id": "c9d97475",
   "metadata": {},
   "outputs": [],
   "source": [
    "etf_clustering_dict = clustering(df_etf, sector=\"ETF\")"
   ]
  },
  {
   "cell_type": "code",
   "execution_count": 24,
   "id": "f2577adf",
   "metadata": {},
   "outputs": [],
   "source": [
    "etf_clustering = pd.DataFrame.from_dict(etf_clustering_dict, orient='index', columns=['Sector', '#Observations','Clustering Score'])"
   ]
  },
  {
   "cell_type": "code",
   "execution_count": 25,
   "id": "024954b6",
   "metadata": {},
   "outputs": [
    {
     "data": {
      "text/html": [
       "<div>\n",
       "<style scoped>\n",
       "    .dataframe tbody tr th:only-of-type {\n",
       "        vertical-align: middle;\n",
       "    }\n",
       "\n",
       "    .dataframe tbody tr th {\n",
       "        vertical-align: top;\n",
       "    }\n",
       "\n",
       "    .dataframe thead th {\n",
       "        text-align: right;\n",
       "    }\n",
       "</style>\n",
       "<table border=\"1\" class=\"dataframe\">\n",
       "  <thead>\n",
       "    <tr style=\"text-align: right;\">\n",
       "      <th></th>\n",
       "      <th>Sector</th>\n",
       "      <th>#Observations</th>\n",
       "      <th>Clustering Score</th>\n",
       "    </tr>\n",
       "  </thead>\n",
       "  <tbody>\n",
       "    <tr>\n",
       "      <th>DIA</th>\n",
       "      <td>ETF</td>\n",
       "      <td>6465</td>\n",
       "      <td>1.615</td>\n",
       "    </tr>\n",
       "    <tr>\n",
       "      <th>SPY</th>\n",
       "      <td>ETF</td>\n",
       "      <td>6458</td>\n",
       "      <td>1.528</td>\n",
       "    </tr>\n",
       "    <tr>\n",
       "      <th>TLT</th>\n",
       "      <td>ETF</td>\n",
       "      <td>5780</td>\n",
       "      <td>1.507</td>\n",
       "    </tr>\n",
       "    <tr>\n",
       "      <th>XLF</th>\n",
       "      <td>ETF</td>\n",
       "      <td>6465</td>\n",
       "      <td>1.290</td>\n",
       "    </tr>\n",
       "    <tr>\n",
       "      <th>ARKK</th>\n",
       "      <td>ETF</td>\n",
       "      <td>2691</td>\n",
       "      <td>1.269</td>\n",
       "    </tr>\n",
       "    <tr>\n",
       "      <th>XLK</th>\n",
       "      <td>ETF</td>\n",
       "      <td>6465</td>\n",
       "      <td>1.219</td>\n",
       "    </tr>\n",
       "    <tr>\n",
       "      <th>QQQ</th>\n",
       "      <td>ETF</td>\n",
       "      <td>6457</td>\n",
       "      <td>0.034</td>\n",
       "    </tr>\n",
       "    <tr>\n",
       "      <th>IWM</th>\n",
       "      <td>ETF</td>\n",
       "      <td>6321</td>\n",
       "      <td>0.014</td>\n",
       "    </tr>\n",
       "    <tr>\n",
       "      <th>EEM</th>\n",
       "      <td>ETF</td>\n",
       "      <td>5600</td>\n",
       "      <td>0.002</td>\n",
       "    </tr>\n",
       "    <tr>\n",
       "      <th>VXX</th>\n",
       "      <td>ETF</td>\n",
       "      <td>4140</td>\n",
       "      <td>-0.008</td>\n",
       "    </tr>\n",
       "  </tbody>\n",
       "</table>\n",
       "</div>"
      ],
      "text/plain": [
       "     Sector  #Observations  Clustering Score\n",
       "DIA     ETF           6465             1.615\n",
       "SPY     ETF           6458             1.528\n",
       "TLT     ETF           5780             1.507\n",
       "XLF     ETF           6465             1.290\n",
       "ARKK    ETF           2691             1.269\n",
       "XLK     ETF           6465             1.219\n",
       "QQQ     ETF           6457             0.034\n",
       "IWM     ETF           6321             0.014\n",
       "EEM     ETF           5600             0.002\n",
       "VXX     ETF           4140            -0.008"
      ]
     },
     "execution_count": 25,
     "metadata": {},
     "output_type": "execute_result"
    }
   ],
   "source": [
    "etf_clustering.sort_values(by='Clustering Score', ascending=False)"
   ]
  },
  {
   "cell_type": "markdown",
   "id": "d9b66c9d",
   "metadata": {},
   "source": [
    "## Health Tech Sector"
   ]
  },
  {
   "cell_type": "code",
   "execution_count": 26,
   "id": "05dc726d",
   "metadata": {},
   "outputs": [],
   "source": [
    "health_tech_clustering_dict = clustering(df_health_tech, sector=\"Health Tech\")"
   ]
  },
  {
   "cell_type": "code",
   "execution_count": 27,
   "id": "a8bd7103",
   "metadata": {},
   "outputs": [],
   "source": [
    "health_tech_clustering = pd.DataFrame.from_dict(health_tech_clustering_dict, orient='index', columns=['Sector', '#Observations','Clustering Score'])"
   ]
  },
  {
   "cell_type": "code",
   "execution_count": 28,
   "id": "fca40432",
   "metadata": {},
   "outputs": [
    {
     "data": {
      "text/html": [
       "<div>\n",
       "<style scoped>\n",
       "    .dataframe tbody tr th:only-of-type {\n",
       "        vertical-align: middle;\n",
       "    }\n",
       "\n",
       "    .dataframe tbody tr th {\n",
       "        vertical-align: top;\n",
       "    }\n",
       "\n",
       "    .dataframe thead th {\n",
       "        text-align: right;\n",
       "    }\n",
       "</style>\n",
       "<table border=\"1\" class=\"dataframe\">\n",
       "  <thead>\n",
       "    <tr style=\"text-align: right;\">\n",
       "      <th></th>\n",
       "      <th>Sector</th>\n",
       "      <th>#Observations</th>\n",
       "      <th>Clustering Score</th>\n",
       "    </tr>\n",
       "  </thead>\n",
       "  <tbody>\n",
       "    <tr>\n",
       "      <th>MRNA</th>\n",
       "      <td>Health Tech</td>\n",
       "      <td>1658</td>\n",
       "      <td>0.558</td>\n",
       "    </tr>\n",
       "    <tr>\n",
       "      <th>CRSP</th>\n",
       "      <td>Health Tech</td>\n",
       "      <td>2196</td>\n",
       "      <td>0.286</td>\n",
       "    </tr>\n",
       "    <tr>\n",
       "      <th>REGN</th>\n",
       "      <td>Health Tech</td>\n",
       "      <td>6464</td>\n",
       "      <td>0.183</td>\n",
       "    </tr>\n",
       "    <tr>\n",
       "      <th>ILMN</th>\n",
       "      <td>Health Tech</td>\n",
       "      <td>6277</td>\n",
       "      <td>0.166</td>\n",
       "    </tr>\n",
       "    <tr>\n",
       "      <th>VRTX</th>\n",
       "      <td>Health Tech</td>\n",
       "      <td>6464</td>\n",
       "      <td>0.119</td>\n",
       "    </tr>\n",
       "    <tr>\n",
       "      <th>NVCR</th>\n",
       "      <td>Health Tech</td>\n",
       "      <td>2460</td>\n",
       "      <td>0.065</td>\n",
       "    </tr>\n",
       "    <tr>\n",
       "      <th>BIIB</th>\n",
       "      <td>Health Tech</td>\n",
       "      <td>6464</td>\n",
       "      <td>0.043</td>\n",
       "    </tr>\n",
       "    <tr>\n",
       "      <th>DXCM</th>\n",
       "      <td>Health Tech</td>\n",
       "      <td>5095</td>\n",
       "      <td>0.004</td>\n",
       "    </tr>\n",
       "  </tbody>\n",
       "</table>\n",
       "</div>"
      ],
      "text/plain": [
       "           Sector  #Observations  Clustering Score\n",
       "MRNA  Health Tech           1658             0.558\n",
       "CRSP  Health Tech           2196             0.286\n",
       "REGN  Health Tech           6464             0.183\n",
       "ILMN  Health Tech           6277             0.166\n",
       "VRTX  Health Tech           6464             0.119\n",
       "NVCR  Health Tech           2460             0.065\n",
       "BIIB  Health Tech           6464             0.043\n",
       "DXCM  Health Tech           5095             0.004"
      ]
     },
     "execution_count": 28,
     "metadata": {},
     "output_type": "execute_result"
    }
   ],
   "source": [
    "health_tech_clustering.sort_values(by='Clustering Score', ascending=False)"
   ]
  },
  {
   "cell_type": "markdown",
   "id": "ba2245b8",
   "metadata": {},
   "source": [
    "## Commodities Sector"
   ]
  },
  {
   "cell_type": "code",
   "execution_count": 29,
   "id": "b2ea1ec5",
   "metadata": {},
   "outputs": [],
   "source": [
    "commodity_clustering_dict = clustering(df_commodity, sector=\"commodity\")"
   ]
  },
  {
   "cell_type": "code",
   "execution_count": 30,
   "id": "e5bbb650",
   "metadata": {},
   "outputs": [],
   "source": [
    "commodity_clustering = pd.DataFrame.from_dict(commodity_clustering_dict, orient='index', columns=['Sector', '#Observations','Clustering Score'])"
   ]
  },
  {
   "cell_type": "code",
   "execution_count": 31,
   "id": "271a5bf1",
   "metadata": {},
   "outputs": [
    {
     "data": {
      "text/html": [
       "<div>\n",
       "<style scoped>\n",
       "    .dataframe tbody tr th:only-of-type {\n",
       "        vertical-align: middle;\n",
       "    }\n",
       "\n",
       "    .dataframe tbody tr th {\n",
       "        vertical-align: top;\n",
       "    }\n",
       "\n",
       "    .dataframe thead th {\n",
       "        text-align: right;\n",
       "    }\n",
       "</style>\n",
       "<table border=\"1\" class=\"dataframe\">\n",
       "  <thead>\n",
       "    <tr style=\"text-align: right;\">\n",
       "      <th></th>\n",
       "      <th>Sector</th>\n",
       "      <th>#Observations</th>\n",
       "      <th>Clustering Score</th>\n",
       "    </tr>\n",
       "  </thead>\n",
       "  <tbody>\n",
       "    <tr>\n",
       "      <th>BG</th>\n",
       "      <td>commodity</td>\n",
       "      <td>6023</td>\n",
       "      <td>0.815</td>\n",
       "    </tr>\n",
       "    <tr>\n",
       "      <th>NEM</th>\n",
       "      <td>commodity</td>\n",
       "      <td>6465</td>\n",
       "      <td>0.717</td>\n",
       "    </tr>\n",
       "    <tr>\n",
       "      <th>ADM</th>\n",
       "      <td>commodity</td>\n",
       "      <td>6465</td>\n",
       "      <td>0.538</td>\n",
       "    </tr>\n",
       "    <tr>\n",
       "      <th>MOS</th>\n",
       "      <td>commodity</td>\n",
       "      <td>6465</td>\n",
       "      <td>0.527</td>\n",
       "    </tr>\n",
       "    <tr>\n",
       "      <th>FCX</th>\n",
       "      <td>commodity</td>\n",
       "      <td>6465</td>\n",
       "      <td>0.168</td>\n",
       "    </tr>\n",
       "    <tr>\n",
       "      <th>SLB</th>\n",
       "      <td>commodity</td>\n",
       "      <td>6465</td>\n",
       "      <td>0.096</td>\n",
       "    </tr>\n",
       "    <tr>\n",
       "      <th>CVX</th>\n",
       "      <td>commodity</td>\n",
       "      <td>6465</td>\n",
       "      <td>0.072</td>\n",
       "    </tr>\n",
       "    <tr>\n",
       "      <th>GOLD</th>\n",
       "      <td>commodity</td>\n",
       "      <td>4134</td>\n",
       "      <td>0.041</td>\n",
       "    </tr>\n",
       "    <tr>\n",
       "      <th>XOM</th>\n",
       "      <td>commodity</td>\n",
       "      <td>6465</td>\n",
       "      <td>0.038</td>\n",
       "    </tr>\n",
       "  </tbody>\n",
       "</table>\n",
       "</div>"
      ],
      "text/plain": [
       "         Sector  #Observations  Clustering Score\n",
       "BG    commodity           6023             0.815\n",
       "NEM   commodity           6465             0.717\n",
       "ADM   commodity           6465             0.538\n",
       "MOS   commodity           6465             0.527\n",
       "FCX   commodity           6465             0.168\n",
       "SLB   commodity           6465             0.096\n",
       "CVX   commodity           6465             0.072\n",
       "GOLD  commodity           4134             0.041\n",
       "XOM   commodity           6465             0.038"
      ]
     },
     "execution_count": 31,
     "metadata": {},
     "output_type": "execute_result"
    }
   ],
   "source": [
    "commodity_clustering.sort_values(by='Clustering Score', ascending=False)"
   ]
  },
  {
   "cell_type": "markdown",
   "id": "9eb03856",
   "metadata": {},
   "source": [
    "## Concat all sectors"
   ]
  },
  {
   "cell_type": "code",
   "execution_count": 32,
   "id": "24c9eb77",
   "metadata": {},
   "outputs": [],
   "source": [
    "clustering_all = pd.concat([\n",
    "    finance_clustering,\n",
    "    tech_clustering,\n",
    "    etf_clustering,\n",
    "    health_tech_clustering,\n",
    "    commodity_clustering\n",
    "])"
   ]
  },
  {
   "cell_type": "code",
   "execution_count": 33,
   "id": "e67e9ce2",
   "metadata": {},
   "outputs": [],
   "source": [
    "clustering_all.sort_values(by='Clustering Score', ascending=False, inplace=True)\n",
    "clustering_all.reset_index(inplace=True)\n",
    "clustering_all.rename(columns={\"index\":\"Ticker\"},inplace=True)"
   ]
  },
  {
   "cell_type": "code",
   "execution_count": 34,
   "id": "c45570c0",
   "metadata": {},
   "outputs": [
    {
     "data": {
      "text/html": [
       "<div>\n",
       "<style scoped>\n",
       "    .dataframe tbody tr th:only-of-type {\n",
       "        vertical-align: middle;\n",
       "    }\n",
       "\n",
       "    .dataframe tbody tr th {\n",
       "        vertical-align: top;\n",
       "    }\n",
       "\n",
       "    .dataframe thead th {\n",
       "        text-align: right;\n",
       "    }\n",
       "</style>\n",
       "<table border=\"1\" class=\"dataframe\">\n",
       "  <thead>\n",
       "    <tr style=\"text-align: right;\">\n",
       "      <th></th>\n",
       "      <th>Ticker</th>\n",
       "      <th>Sector</th>\n",
       "      <th>#Observations</th>\n",
       "      <th>Clustering Score</th>\n",
       "    </tr>\n",
       "  </thead>\n",
       "  <tbody>\n",
       "    <tr>\n",
       "      <th>0</th>\n",
       "      <td>DIA</td>\n",
       "      <td>ETF</td>\n",
       "      <td>6465</td>\n",
       "      <td>1.615</td>\n",
       "    </tr>\n",
       "    <tr>\n",
       "      <th>1</th>\n",
       "      <td>SPY</td>\n",
       "      <td>ETF</td>\n",
       "      <td>6458</td>\n",
       "      <td>1.528</td>\n",
       "    </tr>\n",
       "    <tr>\n",
       "      <th>2</th>\n",
       "      <td>TLT</td>\n",
       "      <td>ETF</td>\n",
       "      <td>5780</td>\n",
       "      <td>1.507</td>\n",
       "    </tr>\n",
       "    <tr>\n",
       "      <th>3</th>\n",
       "      <td>XLF</td>\n",
       "      <td>ETF</td>\n",
       "      <td>6465</td>\n",
       "      <td>1.290</td>\n",
       "    </tr>\n",
       "    <tr>\n",
       "      <th>4</th>\n",
       "      <td>ARKK</td>\n",
       "      <td>ETF</td>\n",
       "      <td>2691</td>\n",
       "      <td>1.269</td>\n",
       "    </tr>\n",
       "    <tr>\n",
       "      <th>5</th>\n",
       "      <td>XLK</td>\n",
       "      <td>ETF</td>\n",
       "      <td>6465</td>\n",
       "      <td>1.219</td>\n",
       "    </tr>\n",
       "    <tr>\n",
       "      <th>6</th>\n",
       "      <td>GS</td>\n",
       "      <td>Finance</td>\n",
       "      <td>6463</td>\n",
       "      <td>1.069</td>\n",
       "    </tr>\n",
       "    <tr>\n",
       "      <th>7</th>\n",
       "      <td>BG</td>\n",
       "      <td>commodity</td>\n",
       "      <td>6023</td>\n",
       "      <td>0.815</td>\n",
       "    </tr>\n",
       "    <tr>\n",
       "      <th>8</th>\n",
       "      <td>NEM</td>\n",
       "      <td>commodity</td>\n",
       "      <td>6465</td>\n",
       "      <td>0.717</td>\n",
       "    </tr>\n",
       "    <tr>\n",
       "      <th>9</th>\n",
       "      <td>JPM</td>\n",
       "      <td>Finance</td>\n",
       "      <td>6463</td>\n",
       "      <td>0.697</td>\n",
       "    </tr>\n",
       "  </tbody>\n",
       "</table>\n",
       "</div>"
      ],
      "text/plain": [
       "  Ticker     Sector  #Observations  Clustering Score\n",
       "0    DIA        ETF           6465             1.615\n",
       "1    SPY        ETF           6458             1.528\n",
       "2    TLT        ETF           5780             1.507\n",
       "3    XLF        ETF           6465             1.290\n",
       "4   ARKK        ETF           2691             1.269\n",
       "5    XLK        ETF           6465             1.219\n",
       "6     GS    Finance           6463             1.069\n",
       "7     BG  commodity           6023             0.815\n",
       "8    NEM  commodity           6465             0.717\n",
       "9    JPM    Finance           6463             0.697"
      ]
     },
     "execution_count": 34,
     "metadata": {},
     "output_type": "execute_result"
    }
   ],
   "source": [
    "clustering_all.head(10)"
   ]
  },
  {
   "cell_type": "code",
   "execution_count": 35,
   "id": "89409e7f",
   "metadata": {},
   "outputs": [
    {
     "data": {
      "text/html": [
       "<div>\n",
       "<style scoped>\n",
       "    .dataframe tbody tr th:only-of-type {\n",
       "        vertical-align: middle;\n",
       "    }\n",
       "\n",
       "    .dataframe tbody tr th {\n",
       "        vertical-align: top;\n",
       "    }\n",
       "\n",
       "    .dataframe thead th {\n",
       "        text-align: right;\n",
       "    }\n",
       "</style>\n",
       "<table border=\"1\" class=\"dataframe\">\n",
       "  <thead>\n",
       "    <tr style=\"text-align: right;\">\n",
       "      <th></th>\n",
       "      <th>Ticker</th>\n",
       "      <th>Sector</th>\n",
       "      <th>#Observations</th>\n",
       "      <th>Clustering Score</th>\n",
       "    </tr>\n",
       "  </thead>\n",
       "  <tbody>\n",
       "    <tr>\n",
       "      <th>42</th>\n",
       "      <td>AAPL</td>\n",
       "      <td>Technology</td>\n",
       "      <td>6463</td>\n",
       "      <td>-0.000</td>\n",
       "    </tr>\n",
       "    <tr>\n",
       "      <th>43</th>\n",
       "      <td>AVGO</td>\n",
       "      <td>Technology</td>\n",
       "      <td>4008</td>\n",
       "      <td>-0.000</td>\n",
       "    </tr>\n",
       "    <tr>\n",
       "      <th>44</th>\n",
       "      <td>CRM</td>\n",
       "      <td>Technology</td>\n",
       "      <td>5298</td>\n",
       "      <td>-0.000</td>\n",
       "    </tr>\n",
       "    <tr>\n",
       "      <th>45</th>\n",
       "      <td>GOOGL</td>\n",
       "      <td>Technology</td>\n",
       "      <td>5258</td>\n",
       "      <td>-0.001</td>\n",
       "    </tr>\n",
       "    <tr>\n",
       "      <th>46</th>\n",
       "      <td>VXX</td>\n",
       "      <td>ETF</td>\n",
       "      <td>4140</td>\n",
       "      <td>-0.008</td>\n",
       "    </tr>\n",
       "  </tbody>\n",
       "</table>\n",
       "</div>"
      ],
      "text/plain": [
       "   Ticker      Sector  #Observations  Clustering Score\n",
       "42   AAPL  Technology           6463            -0.000\n",
       "43   AVGO  Technology           4008            -0.000\n",
       "44    CRM  Technology           5298            -0.000\n",
       "45  GOOGL  Technology           5258            -0.001\n",
       "46    VXX         ETF           4140            -0.008"
      ]
     },
     "execution_count": 35,
     "metadata": {},
     "output_type": "execute_result"
    }
   ],
   "source": [
    "clustering_all.tail(5)"
   ]
  },
  {
   "cell_type": "code",
   "execution_count": 38,
   "id": "b0965820",
   "metadata": {},
   "outputs": [],
   "source": [
    "clustering_all.to_csv(\"results/clustering_scores.csv\",index=False)"
   ]
  },
  {
   "cell_type": "code",
   "execution_count": null,
   "id": "72ccc96a",
   "metadata": {},
   "outputs": [],
   "source": []
  }
 ],
 "metadata": {
  "kernelspec": {
   "display_name": ".venv",
   "language": "python",
   "name": "python3"
  },
  "language_info": {
   "codemirror_mode": {
    "name": "ipython",
    "version": 3
   },
   "file_extension": ".py",
   "mimetype": "text/x-python",
   "name": "python",
   "nbconvert_exporter": "python",
   "pygments_lexer": "ipython3",
   "version": "3.9.6"
  }
 },
 "nbformat": 4,
 "nbformat_minor": 5
}
